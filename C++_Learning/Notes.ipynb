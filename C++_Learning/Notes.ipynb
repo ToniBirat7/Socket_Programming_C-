{
 "cells": [
  {
   "cell_type": "markdown",
   "id": "ed4def22",
   "metadata": {},
   "source": [
    "# **Resources**\n",
    "\n",
    "[Bro_Code](https://www.youtube.com/watch?v=-TkoO8Z07hI)\n",
    "\n",
    "[C++\\_Playlist](https://www.youtube.com/watch?v=cg08V-cj3Zw&list=PL9HfA4ZKbzimKyvquT1MZ2x9d6UHjFNFA\n",
    ")\n"
   ]
  },
  {
   "cell_type": "markdown",
   "id": "6409890b",
   "metadata": {},
   "source": [
    "## **NameSpaces**\n",
    "\n",
    "To avoid name conflicts and main different versions of the variables defined within a namespace.\n",
    "\n",
    "```C++\n",
    "\n",
    "#include <iostream>\n",
    "\n",
    "namespace first\n",
    "{\n",
    "  int x = 1;\n",
    "}\n",
    "\n",
    "namespace second\n",
    "{\n",
    "  int x = 2;\n",
    "}\n",
    "\n",
    "int main()\n",
    "{\n",
    "  using namespace first;\n",
    "  std::cout << x << std::endl;\n",
    "}\n",
    "\n",
    "```\n",
    "\n",
    "We can choose our namespace as per our need of the version of the variable.\n"
   ]
  },
  {
   "cell_type": "markdown",
   "id": "0974b543",
   "metadata": {},
   "source": [
    "`cout` : Character Out\n"
   ]
  }
 ],
 "metadata": {
  "language_info": {
   "name": "python"
  }
 },
 "nbformat": 4,
 "nbformat_minor": 5
}
